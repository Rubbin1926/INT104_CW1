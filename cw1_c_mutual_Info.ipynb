{
 "cells": [
  {
   "cell_type": "code",
   "execution_count": 1,
   "id": "27a822d0",
   "metadata": {},
   "outputs": [
    {
     "data": {
      "text/plain": [
       "(619, 10)"
      ]
     },
     "execution_count": 1,
     "metadata": {},
     "output_type": "execute_result"
    }
   ],
   "source": [
    "import pandas as pd\n",
    "import numpy as np\n",
    "import matplotlib.pyplot as plt\n",
    "from sklearn.decomposition import PCA\n",
    "\n",
    "data = pd.read_excel(\"CW_Data.xlsx\")\n",
    "\n",
    "# 移除索引列\n",
    "data = data.drop('Index', axis=1)\n",
    "\n",
    "data.shape"
   ]
  },
  {
   "cell_type": "code",
   "execution_count": 2,
   "id": "8e80c0ab",
   "metadata": {},
   "outputs": [
    {
     "name": "stdout",
     "output_type": "stream",
     "text": [
      "(619, 9)\n",
      "(619,)\n"
     ]
    }
   ],
   "source": [
    "X = data.drop(['Programme'], axis=1)\n",
    "y = data['Programme']\n",
    "print(X.shape)\n",
    "print(y.shape)"
   ]
  },
  {
   "cell_type": "code",
   "execution_count": 3,
   "id": "12b62a5c",
   "metadata": {},
   "outputs": [
    {
     "name": "stdout",
     "output_type": "stream",
     "text": [
      "Grade: 0.2147921649222686\n",
      "Total: 0.1858440136887589\n",
      "MCQ: 0.11855098168732559\n",
      "Q2: 0.07858487853714857\n",
      "Q4: 0.06605688070576843\n",
      "Q5: 0.04621074941395209\n",
      "Q3: 0.04303852246568374\n",
      "Q1: 0.030236947476947496\n",
      "Gender: 0.002169451204318662\n"
     ]
    }
   ],
   "source": [
    "from sklearn.feature_selection import mutual_info_classif\n",
    "np.random.seed(42)\n",
    "\n",
    "# 计算互信息\n",
    "mutual_info = mutual_info_classif(X, y)\n",
    "feature_scores = dict(zip(X.columns, mutual_info))\n",
    "\n",
    "sorted_features = sorted(feature_scores, key=feature_scores.get, reverse=True)\n",
    "for feature in sorted_features:\n",
    "    print(f\"{feature}: {feature_scores[feature]}\")"
   ]
  },
  {
   "cell_type": "code",
   "execution_count": null,
   "id": "547381eb",
   "metadata": {},
   "outputs": [],
   "source": []
  },
  {
   "cell_type": "code",
   "execution_count": null,
   "id": "6fd5683d",
   "metadata": {},
   "outputs": [],
   "source": []
  }
 ],
 "metadata": {
  "kernelspec": {
   "display_name": "Python 3 (ipykernel)",
   "language": "python",
   "name": "python3"
  },
  "language_info": {
   "codemirror_mode": {
    "name": "ipython",
    "version": 3
   },
   "file_extension": ".py",
   "mimetype": "text/x-python",
   "name": "python",
   "nbconvert_exporter": "python",
   "pygments_lexer": "ipython3",
   "version": "3.11.3"
  }
 },
 "nbformat": 4,
 "nbformat_minor": 5
}
